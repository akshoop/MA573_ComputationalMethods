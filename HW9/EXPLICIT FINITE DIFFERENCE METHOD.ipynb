{
 "metadata": {
  "name": "",
  "signature": "sha256:c6d904ec2bd6fe41de7fed1389727412b9bb986d460e263a387732265a71b5f6"
 },
 "nbformat": 3,
 "nbformat_minor": 0,
 "worksheets": [
  {
   "cells": [
    {
     "cell_type": "code",
     "collapsed": false,
     "input": [
      "import numpy as np\n",
      "def OptioncallE(Smax,M,T,N,K,r,sigma):\n",
      "    \n",
      "    #discretisation\n",
      "    ds=Smax/float(M)   #step size for the stock\n",
      "    dt=T/float(N)      #step size for time\n",
      "    \n",
      "    i=np.arange(1,M,dtype=np.float)   \n",
      "    \n",
      "    #initializing the risk neutral probabilities\n",
      "    \n",
      "    P=(-.5*r*dt*i+.5*sigma**2*dt*i**2)/(1+r*dt)\n",
      "    Q=(1-sigma**2*dt*i**2)/(1+r*dt)\n",
      "    R=(.5*r*dt*i+.5*sigma**2*dt*i**2)/(1+r*dt)\n",
      "    \n",
      "    A=np.diag(Q)+np.diag(P[1:],k=-1)+np.diag(R[0:M-2],k=1)\n",
      "    \n",z
      "    F=np.zeros((N+1,M+1)) #the matrix for the option price\n",
      "    \n",
      "    #the boundary conditions\n",
      "    \n",
      "    F[:,0]=0\n",
      "    F[:,M]=[Smax * np.exp(-r*( N - j)*dt) for j in range(N+1)]\n",
      "    F[N,:]=np.maximum(np.arange(0,Smax+ds/2.0,ds,dtype=np.float)-K,0)\n",
      "    \n",
      "    F=np.matrix(np.array(F))\n",
      "    \n",
      "   \n",
      "    for j in range(N-1,-1,-1): #discounting process\n",
      "        d=np.zeros((M-1,1)) #the column vector d\n",aaz
      "        \n",
      "        #inserts the first and the last element\n",
      "        d[0]=P[0]*F[j+1,0] \n",
      "        d[M-2]=R[M-2]*F[j+1,M]\n",
      "        \n",
      "        F[j,1:M]=np.dot(F[j+1,1:M],A)+np.matrix(np.array(d)).transpose() #computation\n",
      "        F[j,:]=np.maximum(np.arange(0,Smax+ds/2.0,ds,dtype=np.float)-K,F[j,:]) \n",
      "    return F[0,(M+1)/2]\n",
      "    \n",
      "        \n",
      "print \"The value of an American call option is\" , OptioncallE(150,50,5/12.0,100,50,0.1,0.25)        \n"
     ],
     "language": "python",
     "metadata": {},
     "outputs": [
      {
       "output_type": "stream",
       "stream": "stdout",
       "text": [
        "The value of an American call option is 25.0\n"
       ]
      }
     ],
     "prompt_number": 1
    },
    {
     "cell_type": "code",
     "collapsed": false,
     "input": [],
     "language": "python",
     "metadata": {},
     "outputs": []
    }
   ],
   "metadata": {}
  }
 ]
}